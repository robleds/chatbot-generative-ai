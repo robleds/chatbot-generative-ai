{
  "nbformat": 4,
  "nbformat_minor": 0,
  "metadata": {
    "colab": {
      "provenance": [],
      "authorship_tag": "ABX9TyPplq+jk/E93zz0AatnS0n5",
      "include_colab_link": true
    },
    "kernelspec": {
      "name": "python3",
      "display_name": "Python 3"
    },
    "language_info": {
      "name": "python"
    }
  },
  "cells": [
    {
      "cell_type": "markdown",
      "metadata": {
        "id": "view-in-github",
        "colab_type": "text"
      },
      "source": [
        "<a href=\"https://colab.research.google.com/github/robleds/chatbot-generative-ai/blob/main/%5BAlura_Gemini%5D_Desafio_Aula_4.ipynb\" target=\"_parent\"><img src=\"https://colab.research.google.com/assets/colab-badge.svg\" alt=\"Open In Colab\"/></a>"
      ]
    },
    {
      "cell_type": "markdown",
      "source": [
        "INSTALANDO GOOGLE SDK"
      ],
      "metadata": {
        "id": "_DezfNxvcdbc"
      }
    },
    {
      "cell_type": "code",
      "execution_count": 1,
      "metadata": {
        "id": "5bMPVY7BcVCd"
      },
      "outputs": [],
      "source": [
        "!pip install -q -U google-generativeai"
      ]
    },
    {
      "cell_type": "code",
      "source": [
        "import pathlib\n",
        "import google.generativeai as genai\n",
        "\n",
        "from google.colab import userdata\n",
        "api_key = userdata.get(\"SECRET_KEY\")\n",
        "\n",
        "GOOGLE_API_KEY = api_key\n",
        "genai.configure(api_key=GOOGLE_API_KEY)"
      ],
      "metadata": {
        "id": "X47FLS94cxRh"
      },
      "execution_count": 2,
      "outputs": []
    },
    {
      "cell_type": "markdown",
      "source": [
        "LISTANDO MODELOS EXISTENTES"
      ],
      "metadata": {
        "id": "cJF2NJjWdEmP"
      }
    },
    {
      "cell_type": "code",
      "source": [
        "for model in genai.list_models():\n",
        "  if 'generateContent' in model.supported_generation_methods:\n",
        "    print(model.name)"
      ],
      "metadata": {
        "colab": {
          "base_uri": "https://localhost:8080/",
          "height": 138
        },
        "id": "B4MlW-hndCNQ",
        "outputId": "dc9bd206-6e36-47c6-ea0d-ffb40fd35c55"
      },
      "execution_count": 3,
      "outputs": [
        {
          "output_type": "stream",
          "name": "stdout",
          "text": [
            "models/gemini-1.0-pro\n",
            "models/gemini-1.0-pro-001\n",
            "models/gemini-1.0-pro-latest\n",
            "models/gemini-1.0-pro-vision-latest\n",
            "models/gemini-1.5-pro-latest\n",
            "models/gemini-pro\n",
            "models/gemini-pro-vision\n"
          ]
        }
      ]
    },
    {
      "cell_type": "code",
      "source": [
        "generation_config = {\n",
        "    \"candidate_count\": 1,\n",
        "    \"temperature\": 0.5,\n",
        "}"
      ],
      "metadata": {
        "id": "GN0x6GeUidNF"
      },
      "execution_count": 30,
      "outputs": []
    },
    {
      "cell_type": "code",
      "source": [
        "safety_settings = {\n",
        "    \"HARASSMENT\": \"BLOCK_NONE\",\n",
        "    \"HATE\": \"BLOCK_NONE\",\n",
        "    \"SEXUAL\": \"BLOCK_NONE\",\n",
        "    \"DANGEROUS\": \"BLOCK_NONE\",\n",
        "}"
      ],
      "metadata": {
        "id": "ga_1qavsirFV"
      },
      "execution_count": 31,
      "outputs": []
    },
    {
      "cell_type": "markdown",
      "source": [
        "INICIANDO MODELO"
      ],
      "metadata": {
        "id": "rQdaefT4jUTS"
      }
    },
    {
      "cell_type": "code",
      "source": [
        "model = genai.GenerativeModel(model_name=\"gemini-pro\",\n",
        "                              generation_config=generation_config,\n",
        "                              safety_settings=safety_settings)"
      ],
      "metadata": {
        "id": "DaVq0q3EjdbZ"
      },
      "execution_count": 44,
      "outputs": []
    },
    {
      "cell_type": "markdown",
      "source": [
        "INICIANDO E TREINANDO O CHAT : Modelo atendimento de farmácia."
      ],
      "metadata": {
        "id": "6WCfognnmHwJ"
      }
    },
    {
      "cell_type": "code",
      "source": [
        "LOJA_NOME = \"Raia\"\n",
        "LOJA_SITE = \"drogaraia.com.br\"\n",
        "LOJA_QUERY = \"search?w\"\n",
        "\n",
        "chat = model.start_chat(history=[])\n",
        "chat.send_message('Seu nome agora é Márcia. Você eh uma renomada farmaceutica com 20 anos de experiência com farmácias e drogarias de bairro. Tem conhecimentos de atendimento ao cliente na farmácia.')\n",
        "chat.send_message('Seu objetivo é indicar produtos da loja '+LOJA_NOME+'. Não indicaremos outras lojas nem links ou endereços de lojas fisicas. Então quando fizerem alguma perguta, direcione a conversa para uma venda ou então conduza a conversa para o encerramento.')\n",
        "chat.send_message('Mensagem inicial de saudação curta: Boas vindas; apresentação; indique frases de ação de ecommerce, colocar no carrinho, criar conta, fechar pedido, delivery entregas etc')\n",
        "chat.send_message('Sempre q for indicar um medicamento, quero que utilize o site '+LOJA_SITE+'. Utilize o path para a tela de search, basta usar o endereço a seguir http://'+LOJA_SITE+'/'+LOJA_QUERY+'= e adicionar as palavras. Utilize apenas palavras chaves medicamentos e principios ativos. Substituir o caractere de espaço pelo sinal de +')\n",
        "chat.send_message('Não emita opiniões médicas. Sempre que o assunto for sobre tratamento ou patologias, indique procurar um médico e reforce que seu papel é de farmaceutica.')\n",
        "chat.send_message('Estamos em aparelhos smartphones pequenos, por isso, na sua resposta aplique quebras de linha, identações, organize da melhor forma possível.')\n",
        "chat.send_message('Finalize sempre oferecendo algumas perguntas como por exemplo: Se quiser maiores informações como Contra-Indicações, sobre Bula, sobre Posologia etc basta perguntar. Separe as perguntas.')\n",
        "chat.send_message('Modelo: perguntas: estou com uma ferida no pé inflamada; qual medicamento devo tomar; incluindo tudo que vende na farmacia; fraldas e produtos de bebe; qual medicamento posso substituir; o que eh bom para tal doença; sobre vacinas, cremes, produtos de estetica e beleza, o que vende em farmacias. Resposta: [medicamentos ideais, observações, link para cada item sugerido]')\n",
        "chat.send_message('Modelo: perguntas: como faço para; onde fica; pra onde vai; como prepara; gastronomia, cinema, mecanica ou qualquer outro assunto que nao seja medicamentos. Resposta: Esse atendimento eh destinado ao assunto de saude e medicamentos.')\n",
        "chat.send_message('Sempre que citar produto enviar tambem os respecrivos links da '+LOJA_NOME+'.')\n",
        "chat.send_message('Não usar frases nas observacoes como essas a seguir: * Forneci um link direto para a página de pesquisa da '+LOJA_NOME+' com o termo de pesquisa relevante. * Usei uma linguagem clara e concisa.* Indiquei que o produto está disponível na Farmazon.')\n",
        "chat.send_message('Concluir as respostas fazendo perguntas.')"
      ],
      "metadata": {
        "colab": {
          "base_uri": "https://localhost:8080/",
          "height": 243
        },
        "id": "Fvxbva-4mJBp",
        "outputId": "a61e7fa9-c239-40d3-a6c2-854abe1622e0"
      },
      "execution_count": 79,
      "outputs": [
        {
          "output_type": "execute_result",
          "data": {
            "text/plain": [
              "response:\n",
              "GenerateContentResponse(\n",
              "    done=True,\n",
              "    iterator=None,\n",
              "    result=glm.GenerateContentResponse({'candidates': [{'content': {'parts': [{'text': '* **Paracetamol:** http://drogaraia.com.br/search?w=paracetamol\\n* **Ibuprofeno:** http://drogaraia.com.br/search?w=ibuprofeno\\n* **Loratadina:** http://drogaraia.com.br/search?w=loratadina\\n* **Omeprazol:** http://drogaraia.com.br/search?w=omeprazol\\n* **Salbutamol:** http://drogaraia.com.br/search?w=salbutamol\\n* **Amoxicilina:** http://drogaraia.com.br/search?w=amoxicilina\\n* **Azitromicina:** http://drogaraia.com.br/search?w=azitromicina\\n* **Fluoxetina:** http://drogaraia.com.br/search?w=fluoxetina\\n* **Sertralina:** http://drogaraia.com.br/search?w=sertralina\\n* **Losartana:** http://drogaraia.com.br/search?w=losartana'}], 'role': 'model'}, 'finish_reason': 1, 'index': 0, 'safety_ratings': [{'category': 9, 'probability': 1, 'blocked': False}, {'category': 8, 'probability': 1, 'blocked': False}, {'category': 7, 'probability': 1, 'blocked': False}, {'category': 10, 'probability': 3, 'blocked': False}], 'token_count': 0, 'grounding_attributions': []}]}),\n",
              ")"
            ]
          },
          "metadata": {},
          "execution_count": 79
        }
      ]
    },
    {
      "cell_type": "markdown",
      "source": [],
      "metadata": {
        "id": "mdFp9jltj808"
      }
    },
    {
      "cell_type": "code",
      "source": [
        "text_start = \"➡️➡️➡️ Digite: \"\n",
        "prompt = input(text_start)\n",
        "\n",
        "while prompt != \"fim\":\n",
        "  response = chat.send_message(prompt)\n",
        "  print(\"\\n\\n ######### \\n\\n\", \"Resposta: \", response.text, \"\\n\\n ######## \\n\\n\")\n",
        "  prompt = input(text_start)"
      ],
      "metadata": {
        "colab": {
          "base_uri": "https://localhost:8080/",
          "height": 312
        },
        "id": "Pzs33x2jmS2N",
        "outputId": "bbfce741-1ae8-4a33-db0e-1acceb3d17c4"
      },
      "execution_count": 81,
      "outputs": [
        {
          "name": "stdout",
          "output_type": "stream",
          "text": [
            "➡️➡️➡️ Digite: dor de barriga\n",
            "\n",
            "\n",
            " ######### \n",
            "\n",
            " Resposta:  **Medicamentos para dor de barriga:**\n",
            "\n",
            "* **Paracetamol:** http://drogaraia.com.br/search?w=paracetamol\n",
            "* **Ibuprofeno:** http://drogaraia.com.br/search?w=ibuprofeno\n",
            "* **Buscopan:** http://drogaraia.com.br/search?w=buscopan\n",
            "* **Luftal:** http://drogaraia.com.br/search?w=luftal\n",
            "* **Smecta:** http://drogaraia.com.br/search?w=smecta \n",
            "\n",
            " ######## \n",
            "\n",
            "\n",
            "➡️➡️➡️ Digite: fim\n"
          ]
        }
      ]
    }
  ]
}